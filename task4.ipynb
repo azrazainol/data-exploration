{
 "cells": [
  {
   "cell_type": "markdown",
   "id": "c3709ff7",
   "metadata": {},
   "source": [
    "# Task 4\n",
    "A'zra Zulaikha Binti Zainol\n",
    "P137262"
   ]
  },
  {
   "cell_type": "code",
   "execution_count": 1,
   "id": "c3606271",
   "metadata": {},
   "outputs": [],
   "source": [
    "movie_1 = \"Frozen\"\n",
    "movie_2 = \"Frozen II\"\n",
    "movie_3 = \"Barbie\"\n",
    "movie_4 = \"Jumanji\"\n",
    "movie_5 = \"Hotel Transylvania 2\""
   ]
  },
  {
   "cell_type": "code",
   "execution_count": 2,
   "id": "dbadde21",
   "metadata": {},
   "outputs": [
    {
     "name": "stdout",
     "output_type": "stream",
     "text": [
      "Frozen\n",
      "Frozen II\n",
      "Barbie\n",
      "Jumanji\n",
      "Hotel Transylvania 2\n"
     ]
    }
   ],
   "source": [
    "movie_list = [movie_1, movie_2, movie_3, movie_4, movie_5]\n",
    "movie = \"\\n\".join(movie_list)\n",
    "print(movie)"
   ]
  },
  {
   "cell_type": "code",
   "execution_count": 3,
   "id": "009dc15c",
   "metadata": {},
   "outputs": [],
   "source": [
    "sport_1 = \"Swimming\"\n",
    "sport_2 = \"Archery\"\n",
    "sport_3 = \"Badminton\"\n",
    "sport_4 = \"Jogging\"\n",
    "sport_5 = \"Ice Skating\""
   ]
  },
  {
   "cell_type": "code",
   "execution_count": 4,
   "id": "ad8fa4f7",
   "metadata": {},
   "outputs": [
    {
     "name": "stdout",
     "output_type": "stream",
     "text": [
      "Swimming\n",
      "Archery\n",
      "Badminton\n",
      "Jogging\n",
      "Ice Skating\n"
     ]
    }
   ],
   "source": [
    "sport_list = [sport_1, sport_2, sport_3, sport_4, sport_5]\n",
    "sport = \"\\n\".join(sport_list)\n",
    "print(sport)"
   ]
  },
  {
   "cell_type": "code",
   "execution_count": 5,
   "id": "ac23df48",
   "metadata": {},
   "outputs": [],
   "source": [
    "movie_exp = [\"Frozen is a movie about two sisters, Anna and Elsa. Elsa was born with powers but has a hard time controlling them and hurted Anna. Elsa learns control as the movie progresses.\",\n",
    "             \"Frozen II is a movie where Anna and Elsa try to discover the backstory of their history and fix what has been damaged in the past.\",\n",
    "             \"Barbie is a movie about Barbie (with Ken) going to the real world to fix their respective human that has been feeling unhappy.\",\n",
    "             \"Jumanji is a movie where a family plays a board game that alters reality.\",\n",
    "             \"Hotel Transylvania is a movie about a hotel, run by a Vampire family, where paranormal creatures stay at get invaded by a human.\"]"
   ]
  },
  {
   "cell_type": "code",
   "execution_count": 6,
   "id": "8e7e618f",
   "metadata": {},
   "outputs": [
    {
     "name": "stdout",
     "output_type": "stream",
     "text": [
      "Lines Added\n"
     ]
    }
   ],
   "source": [
    "try:\n",
    "    with open(\"movie.txt\", \"r\") as file:\n",
    "        movie_names = file.read()\n",
    "\n",
    "    add_explanation = movie_names + '\\n' + '\\n'.join(movie_exp)\n",
    "\n",
    "    with open(\"movie.txt\", \"w\") as file:\n",
    "        file.write(add_explanation)\n",
    "    print(\"Lines Added\")\n",
    "except FileNotFoundError:\n",
    "    print(f\"File movie.txt not found.\")"
   ]
  },
  {
   "cell_type": "code",
   "execution_count": 7,
   "id": "de99b39e",
   "metadata": {},
   "outputs": [],
   "source": [
    "sport_exp = [\"Swimming is a sport that requires body movement and control to move underwater.\",\n",
    "            \"Archery is a sport that uses a bow and arrow to aim targets.\",\n",
    "            \"Badminton is a two player sport that uses a racquet and a shuttlecock.\",\n",
    "            \"Jogging is a sports that requires one to run at a comfortable pace.\",\n",
    "            \"Ice skating is a sport where one wears ice-skates and glides on.\"]"
   ]
  },
  {
   "cell_type": "code",
   "execution_count": 8,
   "id": "eb4add7c",
   "metadata": {},
   "outputs": [
    {
     "name": "stdout",
     "output_type": "stream",
     "text": [
      "Lines Added\n"
     ]
    }
   ],
   "source": [
    "try:\n",
    "    with open(\"sport.txt\", \"r\") as file:\n",
    "        sport_names = file.read()\n",
    "\n",
    "    add_explanation = sport_names + '\\n' + '\\n'.join(sport_exp)\n",
    "\n",
    "    with open(\"sport.txt\", \"w\") as file:\n",
    "        file.write(add_explanation)\n",
    "    print(\"Lines Added\")\n",
    "except FileNotFoundError:\n",
    "    print(f\"File movie.txt not found.\")"
   ]
  }
 ],
 "metadata": {
  "kernelspec": {
   "display_name": "Python 3 (ipykernel)",
   "language": "python",
   "name": "python3"
  },
  "language_info": {
   "codemirror_mode": {
    "name": "ipython",
    "version": 3
   },
   "file_extension": ".py",
   "mimetype": "text/x-python",
   "name": "python",
   "nbconvert_exporter": "python",
   "pygments_lexer": "ipython3",
   "version": "3.11.5"
  }
 },
 "nbformat": 4,
 "nbformat_minor": 5
}
