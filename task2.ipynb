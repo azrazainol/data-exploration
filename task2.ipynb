{
 "cells": [
  {
   "cell_type": "markdown",
   "id": "a2a47d7b",
   "metadata": {},
   "source": [
    "# Task 2\n",
    "A'zra Zulaikha Binti Zainol\n",
    "P137262"
   ]
  },
  {
   "cell_type": "code",
   "execution_count": 1,
   "id": "d1b60255",
   "metadata": {},
   "outputs": [],
   "source": [
    "class BankAccount():\n",
    "    def __init__(self, username, full_name, ic_number, city, telephone_number, initial_saving):\n",
    "        self.username = username\n",
    "        self.full_name = full_name\n",
    "        self.ic_number = ic_number\n",
    "        self.city = city\n",
    "        self.telephone_number = telephone_number\n",
    "        self.balance = initial_saving\n",
    "        self.active = True\n",
    "\n",
    "    def deposit_money(self, amount):\n",
    "        self.balance += amount\n",
    "        return \"Deposited: RM \" + str(amount) + \". New balance: RM \" + str(self.balance) + \".\"\n",
    "\n",
    "    def withdraw_money(self, amount):\n",
    "        if self.balance - amount >= 20:\n",
    "            self.balance -= amount\n",
    "            return \"Withdrew: RM \" + str(amount) + \". New balance: RM \" + str(self.balance) + \".\"\n",
    "        else:\n",
    "            return \"Insufficient funds. Minimum balance must be RM 20.\"\n",
    "\n",
    "    def check_balance(self):\n",
    "        return (self.full_name) + \"'s current balance: RM \" + str(self.balance) + \".\"\n",
    "\n",
    "    def close_account(self):\n",
    "        self.balance = 0\n",
    "        self.active = False\n",
    "        return \"Account closed.\""
   ]
  },
  {
   "cell_type": "code",
   "execution_count": 2,
   "id": "8474ecc9",
   "metadata": {},
   "outputs": [],
   "source": [
    "class ChildAccount(BankAccount):\n",
    "    def __init__(self, username, full_name, ic_number, city, telephone_number, initial_saving, parent):\n",
    "        super().__init__(username, full_name, ic_number, city, telephone_number, initial_saving)\n",
    "        self.parent = parent"
   ]
  },
  {
   "cell_type": "markdown",
   "id": "81bf2429",
   "metadata": {},
   "source": [
    "### Parent account instances:"
   ]
  },
  {
   "cell_type": "code",
   "execution_count": 3,
   "id": "71ac110b",
   "metadata": {},
   "outputs": [],
   "source": [
    "parent1 = BankAccount(\"SarahAthirah123\", \"Sarah Athirah\", \"921230101010\", \"Ipoh\", \"0192223334\", 45)\n",
    "parent2 = BankAccount(\"syediman90\", \"Syed Iman Alif\", \"700304100911\", \"Kuala Lumpur\", \"0112348769\", 1200)\n",
    "parent3 = BankAccount(\"aminima\", \"Muhd Amin\", \"810923109777\", \"Bangi\", \"0163482694\", 2500)\n",
    "parent4 = BankAccount(\"sinsinthyiaa\", \"Sinthyia Suresh\", \"780901064548\", \"Kuala Kangsar\", \"0121984081\", 500)\n",
    "parent5 = BankAccount(\"vera_christoph\", \"Vera Carol\", \"971029020406\", \"Miri\", \"0170846819\", 800)"
   ]
  },
  {
   "cell_type": "markdown",
   "id": "8262567b",
   "metadata": {},
   "source": [
    "### Child account instances:"
   ]
  },
  {
   "cell_type": "code",
   "execution_count": 4,
   "id": "41986961",
   "metadata": {},
   "outputs": [],
   "source": [
    "child1 = ChildAccount(\"izzaaatttiii\", \"Iffah Izzati\", \"130331105552\", \"Bangi\", \"0194385694\", 54, \"Sarah Athirah\")\n",
    "child2 = ChildAccount(\"sulaiman_mohd\", \"Mohd Sulaiman\", \"100606103301\", \"Kuala Lumpur\", \"0111630361\", 39, \"Syed Iman Alif\")\n",
    "child3 = ChildAccount(\"kamilabdul\", \"Abdul Kamil\", \"150325105577\", \"Bangi\", \"0163482694\", 200, \"Muhd Amin\")\n",
    "child4 = ChildAccount(\"pave_theran\", \"Pavetheran\", \"060717101089\", \"Kuala Kangsar\", \"0183472895\", 300, \"Sinthyia Suresh\")\n",
    "child5 = ChildAccount(\"annywang\", \"Anny Carol\", \"170727088458\", \"Miri\", \"0174581038\", 20, \"Vera Carol\")"
   ]
  },
  {
   "cell_type": "markdown",
   "id": "851809e8",
   "metadata": {},
   "source": [
    "### check account balance in parent accounts"
   ]
  },
  {
   "cell_type": "code",
   "execution_count": 5,
   "id": "afb23389",
   "metadata": {},
   "outputs": [
    {
     "name": "stdout",
     "output_type": "stream",
     "text": [
      "Sarah Athirah's current balance: RM 45.\n",
      "Syed Iman Alif's current balance: RM 1200.\n",
      "Muhd Amin's current balance: RM 2500.\n",
      "Sinthyia Suresh's current balance: RM 500.\n",
      "Vera Carol's current balance: RM 800.\n"
     ]
    }
   ],
   "source": [
    "print(parent1.check_balance())\n",
    "print(parent2.check_balance())\n",
    "print(parent3.check_balance())\n",
    "print(parent4.check_balance())\n",
    "print(parent5.check_balance())"
   ]
  },
  {
   "cell_type": "markdown",
   "id": "723140b5",
   "metadata": {},
   "source": [
    "### check account balance in child accounts"
   ]
  },
  {
   "cell_type": "code",
   "execution_count": 6,
   "id": "1dce224d",
   "metadata": {},
   "outputs": [
    {
     "name": "stdout",
     "output_type": "stream",
     "text": [
      "Iffah Izzati's current balance: RM 54.\n",
      "Mohd Sulaiman's current balance: RM 39.\n",
      "Abdul Kamil's current balance: RM 200.\n",
      "Pavetheran's current balance: RM 300.\n",
      "Anny Carol's current balance: RM 20.\n"
     ]
    }
   ],
   "source": [
    "print(child1.check_balance())\n",
    "print(child2.check_balance())\n",
    "print(child3.check_balance())\n",
    "print(child4.check_balance())\n",
    "print(child5.check_balance())"
   ]
  },
  {
   "cell_type": "markdown",
   "id": "9e03c093",
   "metadata": {},
   "source": [
    "### Apply methods in no. (4) to parent accounts"
   ]
  },
  {
   "cell_type": "code",
   "execution_count": 7,
   "id": "a2b7b692",
   "metadata": {},
   "outputs": [
    {
     "name": "stdout",
     "output_type": "stream",
     "text": [
      "Deposited: RM 1000. New balance: RM 1045.\n",
      "Insufficient funds. Minimum balance must be RM 20.\n",
      "Account closed.\n",
      "Sarah Athirah's current balance: RM 0.\n",
      "False\n"
     ]
    }
   ],
   "source": [
    "print(parent1.deposit_money(1000))\n",
    "print(parent1.withdraw_money(1400))\n",
    "print(parent1.close_account())\n",
    "print(parent1.check_balance())\n",
    "print(parent1.active)"
   ]
  },
  {
   "cell_type": "code",
   "execution_count": 8,
   "id": "23a83bb0",
   "metadata": {},
   "outputs": [
    {
     "name": "stdout",
     "output_type": "stream",
     "text": [
      "Withdrew: RM 1000. New balance: RM 200.\n",
      "True\n"
     ]
    }
   ],
   "source": [
    "print(parent2.withdraw_money(1000))\n",
    "print(parent2.active)"
   ]
  },
  {
   "cell_type": "code",
   "execution_count": 9,
   "id": "d403db1d",
   "metadata": {},
   "outputs": [
    {
     "name": "stdout",
     "output_type": "stream",
     "text": [
      "Muhd Amin's current balance: RM 2500.\n",
      "Withdrew: RM 2400. New balance: RM 100.\n"
     ]
    }
   ],
   "source": [
    "print(parent3.check_balance())\n",
    "print(parent3.withdraw_money(2400))"
   ]
  },
  {
   "cell_type": "code",
   "execution_count": 10,
   "id": "8c4d166b",
   "metadata": {},
   "outputs": [
    {
     "name": "stdout",
     "output_type": "stream",
     "text": [
      "Deposited: RM 2000. New balance: RM 2500.\n",
      "Sinthyia Suresh's current balance: RM 2500.\n"
     ]
    }
   ],
   "source": [
    "print(parent4.deposit_money(2000))\n",
    "print(parent4.check_balance())"
   ]
  },
  {
   "cell_type": "code",
   "execution_count": 11,
   "id": "29d54f88",
   "metadata": {},
   "outputs": [
    {
     "name": "stdout",
     "output_type": "stream",
     "text": [
      "Vera Carol's current balance: RM 800.\n",
      "vera_christoph\n",
      "Account closed.\n",
      "False\n"
     ]
    }
   ],
   "source": [
    "print(parent5.check_balance())\n",
    "print(parent5.username)\n",
    "print(parent5.close_account())\n",
    "print(parent5.active)"
   ]
  },
  {
   "cell_type": "markdown",
   "id": "cfcb2385",
   "metadata": {},
   "source": [
    "### Apply methods in no. (4) to child accounts"
   ]
  },
  {
   "cell_type": "code",
   "execution_count": 12,
   "id": "08f5dffe",
   "metadata": {},
   "outputs": [
    {
     "name": "stdout",
     "output_type": "stream",
     "text": [
      "Parent: Sarah Athirah\n",
      "Child: Iffah Izzati\n",
      "Withdrew: RM 20. New balance: RM 34.\n",
      "Account closed.\n",
      "False\n"
     ]
    }
   ],
   "source": [
    "print(\"Parent: \" + str(child1.parent))\n",
    "print(\"Child: \" + str(child1.full_name))\n",
    "print(child1.withdraw_money(20))\n",
    "print(child1.close_account())\n",
    "print(child1.active)"
   ]
  },
  {
   "cell_type": "code",
   "execution_count": 13,
   "id": "c35d8f55",
   "metadata": {},
   "outputs": [
    {
     "name": "stdout",
     "output_type": "stream",
     "text": [
      "Parent: Syed Iman Alif\n",
      "Child: Mohd Sulaiman\n",
      "Insufficient funds. Minimum balance must be RM 20.\n",
      "Deposited: RM 300. New balance: RM 339.\n"
     ]
    }
   ],
   "source": [
    "print(\"Parent: \" + str(child2.parent) + \"\\nChild: \" + str(child2.full_name))\n",
    "print(child2.withdraw_money(20))\n",
    "print(child2.deposit_money(300))"
   ]
  },
  {
   "cell_type": "code",
   "execution_count": 14,
   "id": "a3850cc8",
   "metadata": {},
   "outputs": [
    {
     "name": "stdout",
     "output_type": "stream",
     "text": [
      "Parent: Muhd Amin\n",
      "Child: Abdul Kamil\n",
      "Abdul Kamil's current balance: RM 200.\n",
      "True\n",
      "Withdrew: RM 50. New balance: RM 150.\n"
     ]
    }
   ],
   "source": [
    "print(\"Parent: \" + str(child3.parent) + \"\\nChild: \" + str(child3.full_name))\n",
    "print(child3.check_balance())\n",
    "print(child3.active)\n",
    "print(child3.withdraw_money(50))"
   ]
  },
  {
   "cell_type": "code",
   "execution_count": 15,
   "id": "a5f4591e",
   "metadata": {},
   "outputs": [
    {
     "name": "stdout",
     "output_type": "stream",
     "text": [
      "Parent: Sinthyia Suresh\n",
      "Child: Pavetheran\n",
      "Pavetheran's current balance: RM 300.\n",
      "Deposited: RM 249. New balance: RM 549.\n"
     ]
    }
   ],
   "source": [
    "print(\"Parent: \" + str(child4.parent) + \"\\nChild: \" + str(child4.full_name))\n",
    "print(child4.check_balance())\n",
    "print(child4.deposit_money(249))"
   ]
  },
  {
   "cell_type": "code",
   "execution_count": 16,
   "id": "5e40e51d",
   "metadata": {},
   "outputs": [
    {
     "name": "stdout",
     "output_type": "stream",
     "text": [
      "Parent: Vera Carol\n",
      "Child: Anny Carol\n",
      "True\n",
      "Account closed.\n",
      "False\n"
     ]
    }
   ],
   "source": [
    "print(\"Parent: \" + str(child5.parent) + \"\\nChild: \" + str(child5.full_name))\n",
    "print(child5.active)\n",
    "print(child5.close_account())\n",
    "print(child5.active)"
   ]
  }
 ],
 "metadata": {
  "kernelspec": {
   "display_name": "Python 3 (ipykernel)",
   "language": "python",
   "name": "python3"
  },
  "language_info": {
   "codemirror_mode": {
    "name": "ipython",
    "version": 3
   },
   "file_extension": ".py",
   "mimetype": "text/x-python",
   "name": "python",
   "nbconvert_exporter": "python",
   "pygments_lexer": "ipython3",
   "version": "3.11.5"
  }
 },
 "nbformat": 4,
 "nbformat_minor": 5
}
