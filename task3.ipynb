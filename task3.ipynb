{
 "cells": [
  {
   "cell_type": "markdown",
   "id": "3c397203",
   "metadata": {},
   "source": [
    "# Task 3\n",
    "A'zra Zulaikha Binti Zainol\n",
    "P137262"
   ]
  },
  {
   "cell_type": "markdown",
   "id": "e66584fc",
   "metadata": {},
   "source": [
    "Find any dataset from any website (eg. kaggle, open data etc.). Your data must have at least 500 instances and seven numerical variables. Your variables can be both numerical and categorical, but must have at least seven numerical variables. Using pandas library, perform the following instruction:\n",
    "\n",
    "- a) Find the heading. What can you explain?\n",
    "- b) Is there any missing values?\n",
    "- c) Sort the columns according to the ascending alphabetical order.\n",
    "- d) Compute descriptive statistics such as maximum, minimum, mean, median, standard deviation, skewness and kurtosis for each of these numerical variables. Give explanation on these findings.\n",
    "\n",
    "Based on the above, write an essay which include the following:\n",
    "1. Introduction and objectives.\n",
    "2. Explanation on the data (Briefly explain your dataset, including what are the variables involved)\n",
    "3. Discussion on the finding based on your objectives and your findings from part (d) above.\n",
    "4. Conclusion\n",
    "Your essay must be at least 1000 words."
   ]
  },
  {
   "cell_type": "code",
   "execution_count": 1,
   "id": "38e8e7fe",
   "metadata": {},
   "outputs": [],
   "source": [
    "import pandas as pd"
   ]
  },
  {
   "cell_type": "code",
   "execution_count": 2,
   "id": "17ff61b0",
   "metadata": {},
   "outputs": [],
   "source": [
    "coff = pd.read_csv(\"Coffee_Chain_Sales.csv\")"
   ]
  },
  {
   "cell_type": "code",
   "execution_count": 3,
   "id": "ea9dd8c4",
   "metadata": {},
   "outputs": [
    {
     "name": "stdout",
     "output_type": "stream",
     "text": [
      "   Area Code  Cogs  DifferenceBetweenActualandTargetProfit       Date  \\\n",
      "0        303    51                                     -35  10/1/2012   \n",
      "1        970    52                                     -24  10/1/2012   \n",
      "2        409    43                                     -22  10/2/2012   \n",
      "3        850    38                                     -15  10/3/2012   \n",
      "4        562    72                                       6  10/4/2012   \n",
      "\n",
      "   Inventory Margin  Margin   Market_size   Market  Marketing Product_line  \\\n",
      "0               503      71  Major Market  Central         46       Leaves   \n",
      "1               405      71  Major Market  Central         17       Leaves   \n",
      "2               419      64  Major Market    South         13       Leaves   \n",
      "3               871      56  Major Market     East         10       Leaves   \n",
      "4               650     110  Major Market     West         23       Leaves   \n",
      "\n",
      "   ...     Product Profit  Sales       State Target_cogs  Target_margin  \\\n",
      "0  ...       Lemon     -5    122    Colorado          30             60   \n",
      "1  ...        Mint     26    123    Colorado          30             60   \n",
      "2  ...       Lemon     28    107       Texas          30             60   \n",
      "3  ...  Darjeeling     35     94     Florida          40             60   \n",
      "4  ...   Green Tea     56    182  California          20             60   \n",
      "\n",
      "   Target_profit  Target_sales   Total_expenses     Type  \n",
      "0             30             90              76    Decaf  \n",
      "1             50             90              45    Decaf  \n",
      "2             50             90              36    Decaf  \n",
      "3             50            100              21  Regular  \n",
      "4             50             80              54  Regular  \n",
      "\n",
      "[5 rows x 21 columns]\n"
     ]
    }
   ],
   "source": [
    "print(coff.head())\n",
    "# retrieve a preview of the dataset"
   ]
  },
  {
   "cell_type": "code",
   "execution_count": 4,
   "id": "4488e33e",
   "metadata": {},
   "outputs": [],
   "source": [
    "# changing the date variable in the data frame to proper date format for proper analysis\n",
    "coff['Date'] = pd.to_datetime(coff['Date'])"
   ]
  },
  {
   "cell_type": "markdown",
   "id": "d81051ea",
   "metadata": {},
   "source": [
    "## a) Find the heading"
   ]
  },
  {
   "cell_type": "code",
   "execution_count": 5,
   "id": "aef47b94",
   "metadata": {
    "scrolled": true
   },
   "outputs": [
    {
     "name": "stdout",
     "output_type": "stream",
     "text": [
      "<class 'pandas.core.frame.DataFrame'>\n",
      "RangeIndex: 1062 entries, 0 to 1061\n",
      "Data columns (total 21 columns):\n",
      " #   Column                                  Non-Null Count  Dtype         \n",
      "---  ------                                  --------------  -----         \n",
      " 0   Area Code                               1062 non-null   int64         \n",
      " 1   Cogs                                    1062 non-null   int64         \n",
      " 2   DifferenceBetweenActualandTargetProfit  1062 non-null   int64         \n",
      " 3   Date                                    1062 non-null   datetime64[ns]\n",
      " 4   Inventory Margin                        1062 non-null   int64         \n",
      " 5   Margin                                  1062 non-null   int64         \n",
      " 6   Market_size                             1062 non-null   object        \n",
      " 7   Market                                  1062 non-null   object        \n",
      " 8   Marketing                               1062 non-null   int64         \n",
      " 9   Product_line                            1062 non-null   object        \n",
      " 10  Product_type                            1062 non-null   object        \n",
      " 11  Product                                 1062 non-null   object        \n",
      " 12  Profit                                  1062 non-null   int64         \n",
      " 13  Sales                                   1062 non-null   int64         \n",
      " 14  State                                   1062 non-null   object        \n",
      " 15  Target_cogs                             1062 non-null   int64         \n",
      " 16  Target_margin                           1062 non-null   int64         \n",
      " 17  Target_profit                           1062 non-null   int64         \n",
      " 18  Target_sales                            1062 non-null   int64         \n",
      " 19  Total_expenses                          1062 non-null   int64         \n",
      " 20  Type                                    1062 non-null   object        \n",
      "dtypes: datetime64[ns](1), int64(13), object(7)\n",
      "memory usage: 174.4+ KB\n",
      "None\n"
     ]
    }
   ],
   "source": [
    "print(coff.info())\n",
    "#retrieves the information about the dataset"
   ]
  },
  {
   "cell_type": "code",
   "execution_count": 6,
   "id": "5feb5a30",
   "metadata": {
    "scrolled": false
   },
   "outputs": [
    {
     "name": "stdout",
     "output_type": "stream",
     "text": [
      "Index(['Area Code', 'Cogs', 'DifferenceBetweenActualandTargetProfit', 'Date',\n",
      "       'Inventory Margin', 'Margin', 'Market_size', 'Market', 'Marketing',\n",
      "       'Product_line', 'Product_type', 'Product', 'Profit', 'Sales', 'State',\n",
      "       'Target_cogs', 'Target_margin', 'Target_profit', 'Target_sales ',\n",
      "       'Total_expenses', 'Type'],\n",
      "      dtype='object')\n",
      "\n",
      "-----------------------------------------------------------------------\n",
      "21\n",
      "1062\n"
     ]
    }
   ],
   "source": [
    "# retrieve the column names\n",
    "print(coff.columns)\n",
    "print(\"\\n-----------------------------------------------------------------------\")\n",
    "print(len(coff.columns))\n",
    "print(len(coff))"
   ]
  },
  {
   "cell_type": "markdown",
   "id": "a5362f33",
   "metadata": {},
   "source": [
    "### Explain the headings:\n",
    "\n",
    "The headings indicate that this data set is about the sales and profit of coffee chains based on the area of the coffee chain and the type of product. It includes details like marketing and inventory costs, market size and sales for specific product types. There are 21 variables in the data set and 1062 rows.\n",
    "\n",
    "### The explanation of each heading is as below:\n",
    "\n",
    "Area code: This is the code of the place where the coffee chain operates.\n",
    "\n",
    "Cogs: This is the 'Cost of Goods Sold', which is the cost of producing or making the products that are sold.\n",
    "\n",
    "DifferenceBetweenActualandTargetProfit: This is the 'Actual Profit' - 'Target Profit'. 'Actual Profit' is the profit amount and 'Target Profit' is the profit goals. Positive values mean that the goals are reached and vice versa.\n",
    "\n",
    "Date: This is the date of the sales.\n",
    "\n",
    "Inventory Margin: This is the 'Revenue from Selling Inventory' - 'Cost of Maintaining Inventory'. 'Revenue from Selling Inventory' is the returns from selling the inventory and 'Cost of Maintaining Inventory' is the cost to store the inventory.\n",
    "\n",
    "Margin: This is the profit percentage earned from sales.\n",
    "\n",
    "Market_size: This is the market size, which means the possible customer base, in the area of the coffee chains.\n",
    "\n",
    "Market: This is the location of the coffee chain in the area.\n",
    "\n",
    "Marketing: This is the cost of marketing (eg: advertising).\n",
    "\n",
    "Product_line: This is the main category of products which can be 'Leaves' for tea or 'Beans' for coffee.\n",
    "\n",
    "Product_type: This is the type of tea and coffee.\n",
    "\n",
    "Product: This is the sub categories of tea and coffee types.\n",
    "\n",
    "Profit: This is the profit made by the coffee chain.\n",
    "\n",
    "Sales: This is the total revenue earned by the coffee chain.\n",
    "\n",
    "State: This is the state where the coffee chain is located.\n",
    "\n",
    "Target_cogs: This is the target for Cost of Goods Sold.\n",
    "\n",
    "Target_margin: This is the target margin.\n",
    "\n",
    "Target_profit: This is the target profit.\n",
    "\n",
    "Target_sales: This is the target sales.\n",
    "\n",
    "Total_expenses: This is the total expenses spent for running the coffee chain.\n",
    "\n",
    "Type: This is the type of caffiene which can be 'Decaff' or 'Regular'."
   ]
  },
  {
   "cell_type": "markdown",
   "id": "694f5fe7",
   "metadata": {},
   "source": [
    "## b) Is there any missing values?"
   ]
  },
  {
   "cell_type": "code",
   "execution_count": 7,
   "id": "1980f2cd",
   "metadata": {},
   "outputs": [
    {
     "name": "stdout",
     "output_type": "stream",
     "text": [
      "Area Code                                 0\n",
      "Cogs                                      0\n",
      "DifferenceBetweenActualandTargetProfit    0\n",
      "Date                                      0\n",
      "Inventory Margin                          0\n",
      "Margin                                    0\n",
      "Market_size                               0\n",
      "Market                                    0\n",
      "Marketing                                 0\n",
      "Product_line                              0\n",
      "Product_type                              0\n",
      "Product                                   0\n",
      "Profit                                    0\n",
      "Sales                                     0\n",
      "State                                     0\n",
      "Target_cogs                               0\n",
      "Target_margin                             0\n",
      "Target_profit                             0\n",
      "Target_sales                              0\n",
      "Total_expenses                            0\n",
      "Type                                      0\n",
      "dtype: int64\n",
      "________________________________________________________\n",
      "\n",
      "There are no missing values in the data set.\n"
     ]
    }
   ],
   "source": [
    "# check missing values\n",
    "print(coff.isnull().sum())\n",
    "print(\"________________________________________________________\")\n",
    "print(\"\\nThere are no missing values in the data set.\")"
   ]
  },
  {
   "cell_type": "markdown",
   "id": "3a1d60a2",
   "metadata": {},
   "source": [
    "## c) Sort the columns according to the ascending alphabetical order."
   ]
  },
  {
   "cell_type": "code",
   "execution_count": 8,
   "id": "dd12e151",
   "metadata": {},
   "outputs": [
    {
     "name": "stdout",
     "output_type": "stream",
     "text": [
      "      Area Code  Cogs       Date  DifferenceBetweenActualandTargetProfit  \\\n",
      "0           303    51 2012-10-01                                     -35   \n",
      "1           970    52 2012-10-01                                     -24   \n",
      "2           409    43 2012-10-02                                     -22   \n",
      "3           850    38 2012-10-03                                     -15   \n",
      "4           562    72 2012-10-04                                       6   \n",
      "...         ...   ...        ...                                     ...   \n",
      "1057        775   250 2015-08-23                                     133   \n",
      "1058        971    88 2015-08-24                                      48   \n",
      "1059        775   294 2015-08-25                                    -285   \n",
      "1060        503   134 2015-08-26                                      80   \n",
      "1061        435    20 2015-08-27                                     -22   \n",
      "\n",
      "      Inventory Margin  Margin   Market   Market_size  Marketing     Product  \\\n",
      "0                  503      71  Central  Major Market         46       Lemon   \n",
      "1                  405      71  Central  Major Market         17        Mint   \n",
      "2                  419      64    South  Major Market         13       Lemon   \n",
      "3                  871      56     East  Major Market         10  Darjeeling   \n",
      "4                  650     110     West  Major Market         23   Green Tea   \n",
      "...                ...     ...      ...           ...        ...         ...   \n",
      "1057              1820     251     West  Small Market         70   Earl Grey   \n",
      "1058               817     133     West  Small Market         29   Earl Grey   \n",
      "1059              8252    -294     West  Small Market        111   Green Tea   \n",
      "1060               690     186     West  Small Market         41   Green Tea   \n",
      "1061               218      25     West  Small Market          7   Green Tea   \n",
      "\n",
      "      ... Product_type Profit  Sales       State Target_cogs  Target_margin  \\\n",
      "0     ...   Herbal Tea     -5    122    Colorado          30             60   \n",
      "1     ...   Herbal Tea     26    123    Colorado          30             60   \n",
      "2     ...   Herbal Tea     28    107       Texas          30             60   \n",
      "3     ...          Tea     35     94     Florida          40             60   \n",
      "4     ...          Tea     56    182  California          20             60   \n",
      "...   ...          ...    ...    ...         ...         ...            ...   \n",
      "1057  ...          Tea    233    534      Nevada         180            180   \n",
      "1058  ...          Tea    108    236      Oregon          60            100   \n",
      "1059  ...          Tea   -605     33      Nevada         210           -210   \n",
      "1060  ...          Tea    180    341      Oregon          90            140   \n",
      "1061  ...          Tea    -22     48        Utah          10             20   \n",
      "\n",
      "      Target_profit  Target_sales   Total_expenses     Type  \n",
      "0                30             90              76    Decaf  \n",
      "1                50             90              45    Decaf  \n",
      "2                50             90              36    Decaf  \n",
      "3                50            100              21  Regular  \n",
      "4                50             80              54  Regular  \n",
      "...             ...            ...             ...      ...  \n",
      "1057            100            360              94  Regular  \n",
      "1058             60            160              60  Regular  \n",
      "1059           -320              0             145  Regular  \n",
      "1060            100            230              65  Regular  \n",
      "1061              0             30              40  Regular  \n",
      "\n",
      "[1062 rows x 21 columns]\n"
     ]
    }
   ],
   "source": [
    "# sorting the columns into ascending alphabetical order based on column name\n",
    "print(coff.sort_index(axis = 1))"
   ]
  },
  {
   "cell_type": "markdown",
   "id": "735f3b2f",
   "metadata": {},
   "source": [
    "## d) Compute descriptive statistics\n",
    "- maximum\n",
    "- minimum\n",
    "- mean\n",
    "- median\n",
    "- standard deviation\n",
    "- skewness\n",
    "- kurtosis"
   ]
  },
  {
   "cell_type": "code",
   "execution_count": 9,
   "id": "c850bbce",
   "metadata": {
    "scrolled": true
   },
   "outputs": [
    {
     "name": "stdout",
     "output_type": "stream",
     "text": [
      "         Area Code         Cogs  DifferenceBetweenActualandTargetProfit  \\\n",
      "count  1062.000000  1062.000000                             1062.000000   \n",
      "mean    587.030132    82.399247                                0.387006   \n",
      "min     203.000000     0.000000                             -369.000000   \n",
      "25%     425.000000    41.000000                              -15.000000   \n",
      "50%     573.000000    57.000000                               -3.000000   \n",
      "75%     774.000000   101.000000                               13.000000   \n",
      "max     985.000000   294.000000                              249.000000   \n",
      "std     225.299162    64.824295                               44.331180   \n",
      "\n",
      "                                Date  Inventory Margin       Margin  \\\n",
      "count                           1062       1062.000000  1062.000000   \n",
      "mean   2014-03-14 12:01:21.355932416        815.175141   102.423729   \n",
      "min              2012-10-01 00:00:00      -3534.000000  -294.000000   \n",
      "25%              2013-06-22 06:00:00        447.000000    51.000000   \n",
      "50%              2014-03-14 12:00:00        659.000000    73.000000   \n",
      "75%              2014-12-04 18:00:00        968.000000   130.000000   \n",
      "max              2015-08-27 00:00:00       8252.000000   526.000000   \n",
      "std                              NaN        916.156386    91.286704   \n",
      "\n",
      "         Marketing       Profit        Sales  Target_cogs  Target_margin  \\\n",
      "count  1062.000000  1062.000000  1062.000000  1062.000000    1062.000000   \n",
      "mean     30.433145    60.556497   191.049906    71.676083      96.817326   \n",
      "min       0.000000  -605.000000    21.000000     0.000000    -210.000000   \n",
      "25%      13.000000    16.250000    98.000000    30.000000      50.000000   \n",
      "50%      22.000000    39.500000   133.000000    50.000000      70.000000   \n",
      "75%      40.750000    87.000000   227.000000    90.000000     120.000000   \n",
      "max     122.000000   646.000000   815.000000   380.000000     580.000000   \n",
      "std      25.963448   100.516593   148.270317    65.701583      89.467176   \n",
      "\n",
      "       Target_profit  Target_sales   Total_expenses  \n",
      "count    1062.000000    1062.000000     1062.000000  \n",
      "mean       60.169492     168.493409       53.836158  \n",
      "min      -320.000000       0.000000       11.000000  \n",
      "25%        20.000000      80.000000       33.000000  \n",
      "50%        40.000000     120.000000       46.000000  \n",
      "75%        80.000000     210.000000       66.000000  \n",
      "max       470.000000     960.000000      156.000000  \n",
      "std        77.824869     145.955171       31.703526  \n"
     ]
    }
   ],
   "source": [
    "# retrieve a summary of the data which shows the number of values, mean, minimum, 1st quartile, median, 3rd quartile, maximum, and standard deviation\n",
    "print(coff.describe())"
   ]
  },
  {
   "cell_type": "code",
   "execution_count": 10,
   "id": "f4239066",
   "metadata": {
    "scrolled": true
   },
   "outputs": [
    {
     "name": "stdout",
     "output_type": "stream",
     "text": [
      "Skewness results:\n",
      "Cogs                                      1.536993\n",
      "DifferenceBetweenActualandTargetProfit   -0.156458\n",
      "Inventory Margin                          2.604671\n",
      "Margin                                    1.222219\n",
      "Marketing                                 1.487507\n",
      "Profit                                    0.282312\n",
      "Sales                                     1.756490\n",
      "Target_cogs                               1.896974\n",
      "Target_margin                             1.887134\n",
      "Target_profit                             1.083739\n",
      "Target_sales                              2.177533\n",
      "Total_expenses                            1.188945\n",
      "dtype: float64\n",
      "\n",
      "Kurtosis results:\n",
      "Cogs                                       1.609019\n",
      "DifferenceBetweenActualandTargetProfit    11.518237\n",
      "Inventory Margin                          21.745677\n",
      "Margin                                     4.295716\n",
      "Marketing                                  1.637996\n",
      "Profit                                     8.973741\n",
      "Sales                                      2.767260\n",
      "Target_cogs                                3.918186\n",
      "Target_margin                              5.965454\n",
      "Target_profit                              7.347542\n",
      "Target_sales                               5.638313\n",
      "Total_expenses                             1.063479\n",
      "dtype: float64\n"
     ]
    }
   ],
   "source": [
    "# retrieve the skewness and kurtosis of the data distribution\n",
    "coff_num_range = list(range(1, 3)) + list(range(4, 6)) + list(range(8, 9)) + list(range(12, 14)) + list(range(15, 20))\n",
    "coff_num = coff.iloc[:, coff_num_range]\n",
    "print(\"Skewness results:\")\n",
    "print(coff_num.skew())\n",
    "print(\"\\nKurtosis results:\")\n",
    "print(coff_num.kurtosis())"
   ]
  },
  {
   "cell_type": "markdown",
   "id": "df1ad514",
   "metadata": {},
   "source": [
    "Based on the above, write an essay which include the following:\n",
    "1. Introduction and objectives.\n",
    "2. Explanation on the data (Briefly explain your dataset, including what are the variables\n",
    "involved)\n",
    "3. Discussion on the finding based on your objectives and your findings from part (d)\n",
    "above.\n",
    "4. Conclusion\n",
    "\n",
    "Your essay must be at least 1000 words."
   ]
  },
  {
   "cell_type": "markdown",
   "id": "0c5acd8b",
   "metadata": {},
   "source": [
    "A dataset from kaggle was employed for this task. The dataset contains information between 2012-10-01 and 2015-08-27 about a coffee chain company. Based on the dataset, the company wants to carry out a simple analysis regarding their sales and profit for all of their available branches within the given period. They want to see how much they are earning and also how much they are spending to keep the coffee chains running smoothly and attracting customers.\n",
    "\n",
    "The dataset has the variable names Area Code, Cogs, DifferenceBetweenActualandTargetProfit, Date, Inventory Margin, Margin, Market_size, Market, Marketing, Product_line, Product_type, Product, Profit, Sales, State, Target_cogs, Target_margin, Target_profit, Target_sales, Total_expenses, and Type.\n",
    "\n",
    "The numerical variables in the dataset that the company is interested in examining are Cogs, DifferenceBetweenActualandTargetProfit, Margin, Profit, Sales, Target_cogs, Target_margin, Target_profit, Target_sales, and Total_expenses. For these variables, the Cogs variable shows the cost of goods sold, the DifferenceBetweenActualandTargetProfit shows the actual profit subtracted by the target profit, the Margin is the percentage of profit earned from sales, the Profit is the profit earned by the coffee chain, the Sales shows the revenue earned, the Target_cogs shows the target for Cost of Goods Sold, the Target_margin is the target margin, the Target_profit shows the target profit, the Target_sales is the target sales and finally the Total_expenses shows the total expenses spent for running the coffee chain.\n",
    "\n",
    "Firstly, the company checks sales for the coffee chains based on the Sales column and compares it with the target sales in the Target_sales column. The minimum sales is 21 and the maximum sales is 815 while the minimum target is 0.0 and the maximum target is 960.0. The median sales is 133 and the median target is 120. This may indicate that most coffee chains earned 133 in sales which is similar to the median target. However, based on common knowledge, the minimum sales is pretty low despite no coffee chain getting lower than the minimum target. This may indicate that there are coffee chains that experienced loss. The maximum sales is also very high. The skewness value for sales, 1.7564, indicates that quite a few coffee chains earned high sales meanwhile the rest of the coffee chains still earned similar values to the average sales which is 191 with a standard deviation of 148.27. Compared to the average target, 168.4934, the coffee chains did pretty well on average. The kurtosis is 2.7672 which indicates that there are extreme values which means that some coffee chains have a sales value that is very different from the majority of the coffee chains and there may be some coffee chains earning less or more than average.\n",
    "\n",
    "The company now wants to identify whether there are losses experienced by their coffee chains. To check, the company refers to the Profit column to see if there are any coffee chains experiencing loss. Based on the output, the minimum value is -605 and maximum value is 646. The negative value shows that there are coffee chains that experienced loss. In comparison to the Target_profit column, the minimum and maximum values are -320 and 470 respectively. The range of profit is wider than the range of target profit. The median of profit is 39.5 which means most of the coffee chains earned profit similar to the median of the target profit which is 40.0. The distribution of the profit has a skewness of 0.28231, a kurtosis of 8.973741, and a mean of 60.5565. The skewness indicates that there is generally a normal distribution but the kurtosis shows there are values that are extreme and vary greatly from the mean with a standard deviation of 100.5166.\n",
    "\n",
    "The company also wants to check what factors may possibly be affecting the coffee chain with the highest and lowest profits. It was detected that the coffee chain with the lowest profit was located in an area with a small market size and only earned 33 in sales despite spending 111 on marketing. The margin, -294, also indicates that the profit percentage earned from their sales are extremely low. Next, the coffee chain with the highest profit had a major market size and a margin of 526. This means that they earned a large profit from the sales they made. They also spent only 66 on marketing which saved them cost. The company decides to look into this problem further in the future.\n",
    "\n",
    "After checking the profit and sales for the coffee branches, the overall performance of the company should be evaluated. The company decides to examine the DifferenceBetweenActualandTargetProfit column. On average, the company barely passed their target profit by an average of 0.387 with a standard deviation of 44.3311. The median is -3.0 which shows that the majority of the coffee chains did not pass their profit. The minimum and maximum values are -369 and 249 respectively. The distribution is skewed to the left and has leptokurtic distribution showing that the coffee chains dominantly did not pass their target profit and there are extreme values. \n",
    "\n",
    "Now the company wants to check the cost of goods sold (Cogs) against the target cost of goods sold. To do so, the company compares the Cogs and Target_cogs columns respectively. It seems like both the minimum for Cogs and Target_cogs are 0.00. The maximum for Cogs is 294 meanwhile the maximum Target_cogs is 380. The median Cogs is 57.0 and the median Target_cogs is 50.0. The average Cogs is 82.4 while the average Target_cogs is 71.68. This means that on average, the coffee branches passed their target cost of goods sold. Cogs has a skewness of 1.5370 and a kurtosis of 1.6090 showing that there are coffee chains that have higher values of Cogs compared to the average.\n",
    "\n",
    "Next, the company wants to know the total expenses the coffee chains spent using the Total_expenses column. The minimum and maximum expenses are 11 and 156 respectively. The median is 46 and the average is 53.84 with a standard deviation of 31.70. This indicates that most coffee chains spent around the average value to keep the coffee chain running. The distribution is skewed to the right by 2.1775 and has a kurtosis of 1.0635 showing that there are a few coffee chains that are spending more than the average.\n",
    "\n",
    "Finally, the company examines the Margin and Target_margin columns to compare the percentage of profit and the target profit percentage. The minimum and maximum for the Margin is -294 and 526 meanwhile the minimum and maximum for Target_margin is -210 and 580. The median margin is 73 and the median target margin is 70. The mean margin is 102.42 and the mean target margin is 96.82. The median and mean indicates that most coffee chains passed the target margin. Both the margin and the target margin have a leptokurtic distribution and are skewed to the right. This means that there are extreme values towards the right side of the graph indicating that there are coffee chains with high margin and target margin values.\n",
    "\n",
    "To conclude, the company did well where they mostly reached their targets in most areas. Regardless, they still have some coffee chains that need proper management so that they do not overspend on marketing but not gain sales. The company may do further analysis to identify which coffee chains need more management to avoid making the wrong decisions or to move the coffee chains location to a more populated area with larger market size."
   ]
  },
  {
   "cell_type": "code",
   "execution_count": 11,
   "id": "34244551",
   "metadata": {},
   "outputs": [],
   "source": [
    "## EXTRA CODES FOR ANALYSIS:"
   ]
  },
  {
   "cell_type": "code",
   "execution_count": 12,
   "id": "84ce7661",
   "metadata": {},
   "outputs": [
    {
     "data": {
      "text/plain": [
       "pandas.core.frame.DataFrame"
      ]
     },
     "execution_count": 12,
     "metadata": {},
     "output_type": "execute_result"
    }
   ],
   "source": [
    "type(coff)"
   ]
  },
  {
   "cell_type": "code",
   "execution_count": 13,
   "id": "e826bafb",
   "metadata": {},
   "outputs": [
    {
     "name": "stdout",
     "output_type": "stream",
     "text": [
      "2012-10-01 00:00:00\n",
      "2015-08-27 00:00:00\n"
     ]
    }
   ],
   "source": [
    "print(coff['Date'].min())\n",
    "print(coff['Date'].max())"
   ]
  },
  {
   "cell_type": "code",
   "execution_count": 14,
   "id": "1d9135ee",
   "metadata": {},
   "outputs": [
    {
     "data": {
      "text/plain": [
       "1059"
      ]
     },
     "execution_count": 14,
     "metadata": {},
     "output_type": "execute_result"
    }
   ],
   "source": [
    "# row for lowest profit\n",
    "coff[coff[\"Profit\"] == -605].index[0]"
   ]
  },
  {
   "cell_type": "code",
   "execution_count": 15,
   "id": "209df165",
   "metadata": {},
   "outputs": [
    {
     "data": {
      "text/plain": [
       "690"
      ]
     },
     "execution_count": 15,
     "metadata": {},
     "output_type": "execute_result"
    }
   ],
   "source": [
    "# row for highest profit\n",
    "coff[coff[\"Profit\"] == 646].index[0]"
   ]
  },
  {
   "cell_type": "code",
   "execution_count": 16,
   "id": "426db258",
   "metadata": {},
   "outputs": [
    {
     "data": {
      "text/plain": [
       "Area Code                                                 775\n",
       "Cogs                                                      294\n",
       "DifferenceBetweenActualandTargetProfit                   -285\n",
       "Date                                      2015-08-25 00:00:00\n",
       "Inventory Margin                                         8252\n",
       "Margin                                                   -294\n",
       "Market_size                                      Small Market\n",
       "Market                                                   West\n",
       "Marketing                                                 111\n",
       "Product_line                                           Leaves\n",
       "Product_type                                              Tea\n",
       "Product                                             Green Tea\n",
       "Profit                                                   -605\n",
       "Sales                                                      33\n",
       "State                                                  Nevada\n",
       "Target_cogs                                               210\n",
       "Target_margin                                            -210\n",
       "Target_profit                                            -320\n",
       "Target_sales                                                0\n",
       "Total_expenses                                            145\n",
       "Type                                                  Regular\n",
       "Name: 1059, dtype: object"
      ]
     },
     "execution_count": 16,
     "metadata": {},
     "output_type": "execute_result"
    }
   ],
   "source": [
    "# lowest profit\n",
    "coff.iloc[1059, ]"
   ]
  },
  {
   "cell_type": "code",
   "execution_count": 17,
   "id": "03789d50",
   "metadata": {},
   "outputs": [
    {
     "data": {
      "text/plain": [
       "Area Code                                                 212\n",
       "Cogs                                                      239\n",
       "DifferenceBetweenActualandTargetProfit                    196\n",
       "Date                                      2014-08-21 00:00:00\n",
       "Inventory Margin                                         1197\n",
       "Margin                                                    526\n",
       "Market_size                                      Major Market\n",
       "Market                                                   East\n",
       "Marketing                                                  66\n",
       "Product_line                                            Beans\n",
       "Product_type                                         Espresso\n",
       "Product                                      Regular Espresso\n",
       "Profit                                                    646\n",
       "Sales                                                     815\n",
       "State                                                New York\n",
       "Target_cogs                                               210\n",
       "Target_margin                                             510\n",
       "Target_profit                                             450\n",
       "Target_sales                                              720\n",
       "Total_expenses                                             91\n",
       "Type                                                  Regular\n",
       "Name: 690, dtype: object"
      ]
     },
     "execution_count": 17,
     "metadata": {},
     "output_type": "execute_result"
    }
   ],
   "source": [
    "# highest profit\n",
    "coff.iloc[690, ]"
   ]
  }
 ],
 "metadata": {
  "kernelspec": {
   "display_name": "Python 3 (ipykernel)",
   "language": "python",
   "name": "python3"
  },
  "language_info": {
   "codemirror_mode": {
    "name": "ipython",
    "version": 3
   },
   "file_extension": ".py",
   "mimetype": "text/x-python",
   "name": "python",
   "nbconvert_exporter": "python",
   "pygments_lexer": "ipython3",
   "version": "3.11.5"
  }
 },
 "nbformat": 4,
 "nbformat_minor": 5
}
