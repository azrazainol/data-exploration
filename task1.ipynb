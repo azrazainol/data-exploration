{
 "cells": [
  {
   "cell_type": "markdown",
   "id": "5732382d",
   "metadata": {},
   "source": [
    "# Task 1\n",
    "A'zra Zulaikha Binti Zainol\n",
    "P137262"
   ]
  },
  {
   "cell_type": "code",
   "execution_count": 1,
   "id": "f157f2a0",
   "metadata": {},
   "outputs": [
    {
     "name": "stdout",
     "output_type": "stream",
     "text": [
      "Requirement already satisfied: numpy in /Users/macbookair/Desktop/anaconda/anaconda3/lib/python3.11/site-packages (1.24.3)\n",
      "Note: you may need to restart the kernel to use updated packages.\n"
     ]
    }
   ],
   "source": [
    "pip install numpy"
   ]
  },
  {
   "cell_type": "code",
   "execution_count": 2,
   "id": "fa7d7098",
   "metadata": {},
   "outputs": [],
   "source": [
    "import numpy as np"
   ]
  },
  {
   "cell_type": "code",
   "execution_count": 3,
   "id": "5df91b71",
   "metadata": {},
   "outputs": [],
   "source": [
    "import random"
   ]
  },
  {
   "cell_type": "code",
   "execution_count": 4,
   "id": "0bad65ee",
   "metadata": {},
   "outputs": [
    {
     "name": "stdout",
     "output_type": "stream",
     "text": [
      "[6.389]\n"
     ]
    }
   ],
   "source": [
    "a = [round(random.uniform(0.000, 10.000), 3) for _ in range(1)]\n",
    "A = np.array(a)\n",
    "print(A)"
   ]
  },
  {
   "cell_type": "code",
   "execution_count": 5,
   "id": "10633ae9",
   "metadata": {},
   "outputs": [
    {
     "name": "stdout",
     "output_type": "stream",
     "text": [
      "[9.443]\n"
     ]
    }
   ],
   "source": [
    "b = [round(random.uniform(0.000, 10.000), 3) for _ in range(1)]\n",
    "B = np.array(b)\n",
    "print(B)"
   ]
  },
  {
   "cell_type": "code",
   "execution_count": 6,
   "id": "c2ab1559",
   "metadata": {},
   "outputs": [
    {
     "name": "stdout",
     "output_type": "stream",
     "text": [
      "[[4.762 1.137 3.061]\n",
      " [2.207 4.505 1.951]\n",
      " [3.81  2.468 7.595]]\n"
     ]
    }
   ],
   "source": [
    "c1 = [round(random.uniform(0.000, 10.000), 3) for _ in range(3)]\n",
    "c2 = [round(random.uniform(0.000, 10.000), 3) for _ in range(3)]\n",
    "c3 = [round(random.uniform(0.000, 10.000), 3) for _ in range(3)]\n",
    "C = np.array([c1, c2, c3])\n",
    "print(C)"
   ]
  },
  {
   "cell_type": "code",
   "execution_count": 7,
   "id": "277ca43c",
   "metadata": {},
   "outputs": [
    {
     "name": "stdout",
     "output_type": "stream",
     "text": [
      "[[5.852 8.323 2.827]\n",
      " [9.819 0.896 8.055]\n",
      " [1.435 4.316 8.974]]\n"
     ]
    }
   ],
   "source": [
    "d1 = [round(random.uniform(0.000, 10.000), 3) for _ in range(3)]\n",
    "d2 = [round(random.uniform(0.000, 10.000), 3) for _ in range(3)]\n",
    "d3 = [round(random.uniform(0.000, 10.000), 3) for _ in range(3)]\n",
    "D = np.array([d1, d2, d3])\n",
    "print(D)"
   ]
  },
  {
   "cell_type": "code",
   "execution_count": 8,
   "id": "b52839f8",
   "metadata": {},
   "outputs": [
    {
     "name": "stdout",
     "output_type": "stream",
     "text": [
      "[[5.395 1.679 4.526 1.083]\n",
      " [4.37  5.628 6.351 6.774]]\n"
     ]
    }
   ],
   "source": [
    "e1 = [round(random.uniform(0.000, 10.000), 3) for _ in range(4)]\n",
    "e2 = [round(random.uniform(0.000, 10.000), 3) for _ in range(4)]\n",
    "E = np.array([e1, e2])\n",
    "print(E)"
   ]
  },
  {
   "cell_type": "code",
   "execution_count": 9,
   "id": "e7d8569d",
   "metadata": {},
   "outputs": [
    {
     "name": "stdout",
     "output_type": "stream",
     "text": [
      "[[2.413 3.83  8.671 9.561]\n",
      " [6.493 8.247 6.528 6.528]]\n"
     ]
    }
   ],
   "source": [
    "f1 = [round(random.uniform(0.000, 10.000), 3) for _ in range(4)]\n",
    "f2 = [round(random.uniform(0.000, 10.000), 3) for _ in range(4)]\n",
    "F = np.array([f1, f2])\n",
    "print(F)"
   ]
  },
  {
   "cell_type": "code",
   "execution_count": 10,
   "id": "4008f2c6",
   "metadata": {},
   "outputs": [
    {
     "name": "stdout",
     "output_type": "stream",
     "text": [
      "[[1.93  6.364]\n",
      " [0.899 7.013]\n",
      " [4.049 9.575]\n",
      " [2.544 4.644]]\n"
     ]
    }
   ],
   "source": [
    "g1 = [round(random.uniform(0.000, 10.000), 3) for _ in range(2)]\n",
    "g2 = [round(random.uniform(0.000, 10.000), 3) for _ in range(2)]\n",
    "g3 = [round(random.uniform(0.000, 10.000), 3) for _ in range(2)]\n",
    "g4 = [round(random.uniform(0.000, 10.000), 3) for _ in range(2)]\n",
    "G = np.array([g1, g2, g3, g4])\n",
    "print(G)"
   ]
  },
  {
   "cell_type": "code",
   "execution_count": 11,
   "id": "add6de46",
   "metadata": {},
   "outputs": [
    {
     "name": "stdout",
     "output_type": "stream",
     "text": [
      "[[6.563 3.543]\n",
      " [7.109 3.526]\n",
      " [4.515 3.286]\n",
      " [3.798 5.007]]\n"
     ]
    }
   ],
   "source": [
    "h1 = [round(random.uniform(0.000, 10.000), 3) for _ in range(2)]\n",
    "h2 = [round(random.uniform(0.000, 10.000), 3) for _ in range(2)]\n",
    "h3 = [round(random.uniform(0.000, 10.000), 3) for _ in range(2)]\n",
    "h4 = [round(random.uniform(0.000, 10.000), 3) for _ in range(2)]\n",
    "H = np.array([h1, h2, h3, h4])\n",
    "print(H)"
   ]
  },
  {
   "cell_type": "code",
   "execution_count": 12,
   "id": "383cbff1",
   "metadata": {},
   "outputs": [
    {
     "name": "stdout",
     "output_type": "stream",
     "text": [
      "[[6.984 5.982 6.481 4.684 4.94 ]\n",
      " [8.997 6.732 4.269 6.921 9.55 ]\n",
      " [5.549 3.673 5.604 1.351 1.994]\n",
      " [3.823 2.007 0.75  7.589 5.551]\n",
      " [3.563 0.616 8.687 9.705 2.39 ]]\n"
     ]
    }
   ],
   "source": [
    "i1 = [round(random.uniform(0.000, 10.000), 3) for _ in range(5)]\n",
    "i2 = [round(random.uniform(0.000, 10.000), 3) for _ in range(5)]\n",
    "i3 = [round(random.uniform(0.000, 10.000), 3) for _ in range(5)]\n",
    "i4 = [round(random.uniform(0.000, 10.000), 3) for _ in range(5)]\n",
    "i5 = [round(random.uniform(0.000, 10.000), 3) for _ in range(5)]\n",
    "I = np.array([i1, i2, i3, i4, i5])\n",
    "print(I)"
   ]
  },
  {
   "cell_type": "code",
   "execution_count": 13,
   "id": "bb0c30d8",
   "metadata": {},
   "outputs": [
    {
     "name": "stdout",
     "output_type": "stream",
     "text": [
      "[[4.882 3.194 0.628 8.073 7.945]\n",
      " [9.52  6.156 1.426 5.667 2.318]\n",
      " [0.392 2.32  6.545 0.038 3.495]\n",
      " [9.81  2.539 0.722 1.744 0.835]\n",
      " [8.734 9.848 3.857 4.411 5.238]]\n"
     ]
    }
   ],
   "source": [
    "j1 = [round(random.uniform(0.000, 10.000), 3) for _ in range(5)]\n",
    "j2 = [round(random.uniform(0.000, 10.000), 3) for _ in range(5)]\n",
    "j3 = [round(random.uniform(0.000, 10.000), 3) for _ in range(5)]\n",
    "j4 = [round(random.uniform(0.000, 10.000), 3) for _ in range(5)]\n",
    "j5 = [round(random.uniform(0.000, 10.000), 3) for _ in range(5)]\n",
    "J = np.array([j1, j2, j3, j4, j5])\n",
    "print(J)"
   ]
  },
  {
   "cell_type": "code",
   "execution_count": 14,
   "id": "e53caf53",
   "metadata": {},
   "outputs": [
    {
     "name": "stdout",
     "output_type": "stream",
     "text": [
      "[2.52764713]\n",
      "[[1.3892444  2.52269697]\n",
      " [0.94815611 2.64820694]\n",
      " [2.01221271 3.09434969]\n",
      " [1.59499216 2.1549942 ]]\n",
      "[[2.64272587 2.44581275 2.54578082 2.16425507 2.22261108]\n",
      " [2.99949996 2.5946098  2.06615585 2.63077935 3.09030743]\n",
      " [2.35563155 1.91650724 2.36727692 1.16232526 1.41209065]\n",
      " [1.95524934 1.41668627 0.8660254  2.75481397 2.35605603]\n",
      " [1.88759106 0.78485667 2.94737171 3.1152849  1.54596248]]\n"
     ]
    }
   ],
   "source": [
    "#1 - sqrt\n",
    "\n",
    "print(np.sqrt(A))\n",
    "print(np.sqrt(G))\n",
    "print(np.sqrt(I))"
   ]
  },
  {
   "cell_type": "code",
   "execution_count": 15,
   "id": "cb5b2044",
   "metadata": {},
   "outputs": [
    {
     "name": "stdout",
     "output_type": "stream",
     "text": [
      "[89.170249]\n",
      "[[22.676644  1.292769  9.369721]\n",
      " [ 4.870849 20.295025  3.806401]\n",
      " [14.5161    6.091024 57.684025]]\n",
      "[[29.106025  2.819041 20.484676  1.172889]\n",
      " [19.0969   31.674384 40.335201 45.887076]]\n"
     ]
    }
   ],
   "source": [
    "#2 - square\n",
    "\n",
    "print(np.square(B))\n",
    "print(np.square(C))\n",
    "print(np.square(E))"
   ]
  },
  {
   "cell_type": "code",
   "execution_count": 16,
   "id": "81119e45",
   "metadata": {},
   "outputs": [
    {
     "name": "stdout",
     "output_type": "stream",
     "text": [
      "[1.85457776]\n",
      "[[ 1.76678348  2.11902277  1.03921608]\n",
      " [ 2.28431928 -0.10981487  2.08629302]\n",
      " [ 0.36116485  1.46232905  2.19433151]]\n",
      "[[0.88087079 1.3428648  2.15998412 2.25769232]\n",
      " [1.87072467 2.1098495  1.87610062 1.87610062]]\n"
     ]
    }
   ],
   "source": [
    "#3 - log\n",
    "\n",
    "print(np.log(A))\n",
    "print(np.log(D))\n",
    "print(np.log(F))"
   ]
  },
  {
   "cell_type": "code",
   "execution_count": 17,
   "id": "3d5535ed",
   "metadata": {},
   "outputs": [
    {
     "name": "stdout",
     "output_type": "stream",
     "text": [
      "[9.]\n",
      "[[6. 3.]\n",
      " [7. 3.]\n",
      " [4. 3.]\n",
      " [3. 5.]]\n",
      "[[4. 3. 0. 8. 7.]\n",
      " [9. 6. 1. 5. 2.]\n",
      " [0. 2. 6. 0. 3.]\n",
      " [9. 2. 0. 1. 0.]\n",
      " [8. 9. 3. 4. 5.]]\n"
     ]
    }
   ],
   "source": [
    "#4 - floor\n",
    "\n",
    "print(np.floor(B))\n",
    "print(np.floor(H))\n",
    "print(np.floor(J))"
   ]
  },
  {
   "cell_type": "code",
   "execution_count": 18,
   "id": "ba3a28da",
   "metadata": {},
   "outputs": [
    {
     "name": "stdout",
     "output_type": "stream",
     "text": [
      "[6.]\n",
      "[[5. 1. 3.]\n",
      " [2. 5. 2.]\n",
      " [4. 2. 8.]]\n",
      "[[5. 2. 5. 1.]\n",
      " [4. 6. 6. 7.]]\n"
     ]
    }
   ],
   "source": [
    "#5 - rint\n",
    "\n",
    "print(np.rint(A))\n",
    "print(np.rint(C))\n",
    "print(np.rint(E))"
   ]
  },
  {
   "cell_type": "code",
   "execution_count": 19,
   "id": "94c58554",
   "metadata": {},
   "outputs": [
    {
     "name": "stdout",
     "output_type": "stream",
     "text": [
      "[[10.614  9.46   5.888]\n",
      " [12.026  5.401 10.006]\n",
      " [ 5.245  6.784 16.569]]\n",
      "[[ 7.808  5.509 13.197 10.644]\n",
      " [10.863 13.875 12.879 13.302]]\n",
      "[[ 8.493  9.907]\n",
      " [ 8.008 10.539]\n",
      " [ 8.564 12.861]\n",
      " [ 6.342  9.651]]\n",
      "[[11.866  9.176  7.109 12.757 12.885]\n",
      " [18.517 12.888  5.695 12.588 11.868]\n",
      " [ 5.941  5.993 12.149  1.389  5.489]\n",
      " [13.633  4.546  1.472  9.333  6.386]\n",
      " [12.297 10.464 12.544 14.116  7.628]]\n"
     ]
    }
   ],
   "source": [
    "#6 - add(x,y)\n",
    "\n",
    "print(np.add(C, D))\n",
    "print(np.add(E, F))\n",
    "print(np.add(G, H))\n",
    "print(np.add(I, J))"
   ]
  },
  {
   "cell_type": "code",
   "execution_count": 20,
   "id": "416c9bb0",
   "metadata": {},
   "outputs": [
    {
     "name": "stdout",
     "output_type": "stream",
     "text": [
      "[[27.867224  9.463251  8.653447]\n",
      " [21.670533  4.03648  15.715305]\n",
      " [ 5.46735  10.651888 68.15753 ]]\n",
      "[[13.018135  6.43057  39.244946 10.354563]\n",
      " [28.37441  46.414116 41.459328 44.220672]]\n",
      "[[12.66659  22.547652]\n",
      " [ 6.390991 24.727838]\n",
      " [18.281235 31.46345 ]\n",
      " [ 9.662112 23.252508]]\n",
      "[[3.4095888e+01 1.9106508e+01 4.0700680e+00 3.7813932e+01 3.9248300e+01]\n",
      " [8.5651440e+01 4.1442192e+01 6.0875940e+00 3.9221307e+01 2.2136900e+01]\n",
      " [2.1752080e+00 8.5213600e+00 3.6678180e+01 5.1338000e-02 6.9690300e+00]\n",
      " [3.7503630e+01 5.0957730e+00 5.4150000e-01 1.3235216e+01 4.6350850e+00]\n",
      " [3.1119242e+01 6.0663680e+00 3.3505759e+01 4.2808755e+01 1.2518820e+01]]\n"
     ]
    }
   ],
   "source": [
    "#7 - multiply(x,y)\n",
    "\n",
    "print(np.multiply(C, D))\n",
    "print(np.multiply(E, F))\n",
    "print(np.multiply(G, H))\n",
    "print(np.multiply(I, J))"
   ]
  },
  {
   "cell_type": "code",
   "execution_count": 21,
   "id": "6247febf",
   "metadata": {},
   "outputs": [
    {
     "name": "stdout",
     "output_type": "stream",
     "text": [
      "[[9.25600364e+03 2.91134952e+00 2.36339130e+01]\n",
      " [2.37571921e+03 3.85221517e+00 2.17782162e+02]\n",
      " [6.81753443e+00 4.93584702e+01 7.97730655e+07]]\n",
      "[[5.83842044e+01 7.27686246e+00 4.84954351e+05 2.14329857e+00]\n",
      " [1.44094024e+04 1.54230466e+06 1.74161963e+05 2.65312319e+05]]\n",
      "[[7.48363537e+01 7.04070253e+02]\n",
      " [4.69113195e-01 9.60852968e+02]\n",
      " [5.52300215e+02 1.67502788e+03]\n",
      " [3.46859802e+01 2.18337986e+03]]\n",
      "[[1.32104270e+04 3.02863843e+02 3.23378535e+00 2.59352312e+05\n",
      "  3.24833349e+05]\n",
      " [1.21062684e+09 1.25330024e+05 7.92218713e+00 5.77081124e+04\n",
      "  1.86916575e+02]\n",
      " [1.95763703e+00 2.04573113e+01 7.92355795e+04 1.01149771e+00\n",
      "  1.11567940e+01]\n",
      " [5.16875758e+05 5.86364648e+00 8.12445490e-01 3.42800826e+01\n",
      "  4.18359827e+00]\n",
      " [6.60023490e+04 8.46819506e-03 4.18042948e+03 2.25754973e+04\n",
      "  9.59507128e+01]]\n"
     ]
    }
   ],
   "source": [
    "#8 - power(x,y)\n",
    "\n",
    "print(np.power(C, D))\n",
    "print(np.power(E, F))\n",
    "print(np.power(G, H))\n",
    "print(np.power(I, J))"
   ]
  },
  {
   "cell_type": "code",
   "execution_count": 22,
   "id": "fe55eff9",
   "metadata": {},
   "outputs": [
    {
     "name": "stdout",
     "output_type": "stream",
     "text": [
      "[[5.852 8.323 3.061]\n",
      " [9.819 4.505 8.055]\n",
      " [3.81  4.316 8.974]]\n",
      "[[5.395 3.83  8.671 9.561]\n",
      " [6.493 8.247 6.528 6.774]]\n",
      "[[6.563 6.364]\n",
      " [7.109 7.013]\n",
      " [4.515 9.575]\n",
      " [3.798 5.007]]\n",
      "[[6.984 5.982 6.481 8.073 7.945]\n",
      " [9.52  6.732 4.269 6.921 9.55 ]\n",
      " [5.549 3.673 6.545 1.351 3.495]\n",
      " [9.81  2.539 0.75  7.589 5.551]\n",
      " [8.734 9.848 8.687 9.705 5.238]]\n"
     ]
    }
   ],
   "source": [
    "#9 - maximum(x,y)\n",
    "\n",
    "print(np.maximum(C, D))\n",
    "print(np.maximum(E, F))\n",
    "print(np.maximum(G, H))\n",
    "print(np.maximum(I, J))"
   ]
  },
  {
   "cell_type": "code",
   "execution_count": 23,
   "id": "412a58d0",
   "metadata": {},
   "outputs": [
    {
     "name": "stdout",
     "output_type": "stream",
     "text": [
      "[[False False  True]\n",
      " [False  True False]\n",
      " [ True False False]]\n",
      "[[ True False False False]\n",
      " [False False False  True]]\n",
      "[[False  True]\n",
      " [False  True]\n",
      " [False  True]\n",
      " [False False]]\n",
      "[[ True  True  True False False]\n",
      " [False  True  True  True  True]\n",
      " [ True  True False  True False]\n",
      " [False False  True  True  True]\n",
      " [False False  True  True False]]\n"
     ]
    }
   ],
   "source": [
    "#10 - greater_equal(x,y)\n",
    "\n",
    "print(np.greater_equal(C, D))\n",
    "print(np.greater_equal(E, F))\n",
    "print(np.greater_equal(G, H))\n",
    "print(np.greater_equal(I, J))"
   ]
  },
  {
   "cell_type": "code",
   "execution_count": 24,
   "id": "9a58cd5b",
   "metadata": {},
   "outputs": [
    {
     "name": "stdout",
     "output_type": "stream",
     "text": [
      "50.497\n",
      "37.347\n",
      "110.33699999999999\n"
     ]
    }
   ],
   "source": [
    "#11 - sum\n",
    "\n",
    "print(np.sum(D))\n",
    "print(np.sum(H))\n",
    "print(np.sum(J))"
   ]
  },
  {
   "cell_type": "code",
   "execution_count": 25,
   "id": "df07b35c",
   "metadata": {},
   "outputs": [
    {
     "name": "stdout",
     "output_type": "stream",
     "text": [
      "6.533875\n",
      "4.62725\n",
      "5.13568\n"
     ]
    }
   ],
   "source": [
    "#12 - mean\n",
    "\n",
    "print(np.mean(F))\n",
    "print(np.mean(G))\n",
    "print(np.mean(I))"
   ]
  },
  {
   "cell_type": "code",
   "execution_count": 26,
   "id": "7dcb6f41",
   "metadata": {},
   "outputs": [
    {
     "name": "stdout",
     "output_type": "stream",
     "text": [
      "3.499555555555555\n",
      "4.47575\n",
      "4.668375\n"
     ]
    }
   ],
   "source": [
    "#13 - min\n",
    "\n",
    "print(np.mean(C))\n",
    "print(np.mean(E))\n",
    "print(np.mean(H))"
   ]
  },
  {
   "cell_type": "code",
   "execution_count": 27,
   "id": "a13962da",
   "metadata": {},
   "outputs": [
    {
     "name": "stdout",
     "output_type": "stream",
     "text": [
      "2\n",
      "4\n",
      "0\n"
     ]
    }
   ],
   "source": [
    "#14 - argmin\n",
    "\n",
    "print(np.argmin(G))\n",
    "print(np.argmin(D))\n",
    "print(np.argmin(F))"
   ]
  },
  {
   "cell_type": "code",
   "execution_count": 28,
   "id": "e26cd607",
   "metadata": {},
   "outputs": [
    {
     "name": "stdout",
     "output_type": "stream",
     "text": [
      "31.495999999999995\n",
      "35.806\n",
      "128.392\n"
     ]
    }
   ],
   "source": [
    "#15 - cumsum\n",
    "\n",
    "print(np.sum(C))\n",
    "print(np.sum(E))\n",
    "print(np.sum(I))"
   ]
  },
  {
   "cell_type": "code",
   "execution_count": 29,
   "id": "8f0bc0a9",
   "metadata": {},
   "outputs": [
    {
     "name": "stdout",
     "output_type": "stream",
     "text": [
      "[[6.389]]\n",
      "[5.852 0.896 8.974]\n",
      "[1.93  7.013]\n"
     ]
    }
   ],
   "source": [
    "#16 - diag\n",
    "\n",
    "print(np.diag(A))\n",
    "print(np.diag(D))\n",
    "print(np.diag(G))"
   ]
  },
  {
   "cell_type": "code",
   "execution_count": 30,
   "id": "c25c646a",
   "metadata": {},
   "outputs": [
    {
     "name": "stdout",
     "output_type": "stream",
     "text": [
      "[[43.423962 53.864154 50.090123]\n",
      " [59.949644 30.825857 60.035238]\n",
      " [57.428237 66.701978 98.80814 ]]\n",
      "[[ 71.89152   45.329656]\n",
      " [123.092179  90.114042]]\n",
      "[[ 45.978542  59.875808  58.279222  59.996922]\n",
      " [ 47.704696  61.279381  53.576093  54.376203]\n",
      " [ 71.940712  94.472695  97.614479 101.218089]\n",
      " [ 36.292164  48.042588  52.375056  54.639216]]\n",
      "[[125.488192  74.109407 123.867705 184.193612 119.673785]\n",
      " [159.710061 116.430087 120.357104 154.626935 145.659581]\n",
      " [ 72.526932  44.232155  79.512377  60.9425    45.707198]\n",
      " [105.005218  82.442442  87.025334  85.836772  85.825112]\n",
      " [206.529452 144.78977  169.07155  198.58874  181.889499]]\n"
     ]
    }
   ],
   "source": [
    "#17 - dot(x,y)\n",
    "\n",
    "print(np.dot(C, D))\n",
    "print(np.dot(E, H))\n",
    "print(np.dot(G, F))\n",
    "print(np.dot(J, I))"
   ]
  },
  {
   "cell_type": "code",
   "execution_count": 31,
   "id": "9b02c9a5",
   "metadata": {},
   "outputs": [
    {
     "name": "stdout",
     "output_type": "stream",
     "text": [
      "24.564999999999998\n",
      "8.943\n",
      "11.023\n"
     ]
    }
   ],
   "source": [
    "#18 - trace\n",
    "\n",
    "print(np.trace(J))\n",
    "print(np.trace(G))\n",
    "print(np.trace(E))"
   ]
  },
  {
   "cell_type": "code",
   "execution_count": 32,
   "id": "d4ec8114",
   "metadata": {},
   "outputs": [
    {
     "name": "stdout",
     "output_type": "stream",
     "text": [
      "(array([11.02293055,  2.72331531,  3.11575415]), array([[-0.46045226, -0.73367809,  0.49709366],\n",
      "       [-0.39401136,  0.62998043, -0.86599445],\n",
      "       [-0.79544878,  0.25463918,  0.05432777]]))\n",
      "(array([ 2.49494829e+01+0.j        ,  6.05169770e+00+0.j        ,\n",
      "       -4.88832270e-03+1.90444463j, -4.88832270e-03-1.90444463j,\n",
      "       -1.69240393e+00+0.j        ]), array([[-0.51041138+0.j        ,  0.32582719+0.j        ,\n",
      "        -0.1769796 +0.1977528j , -0.1769796 -0.1977528j ,\n",
      "        -0.37946919+0.j        ],\n",
      "       [-0.63637822+0.j        , -0.12093065+0.j        ,\n",
      "        -0.42313717-0.4163816j , -0.42313717+0.4163816j ,\n",
      "         0.72155627+0.j        ],\n",
      "       [-0.32622968+0.j        ,  0.62320242+0.j        ,\n",
      "         0.2304456 +0.17337155j,  0.2304456 -0.17337155j,\n",
      "         0.00619841+0.j        ],\n",
      "       [-0.31487495+0.j        , -0.69689657+0.j        ,\n",
      "        -0.27316612-0.07513799j, -0.27316612+0.07513799j,\n",
      "         0.29705915+0.j        ],\n",
      "       [-0.35906955+0.j        , -0.07187726+0.j        ,\n",
      "         0.64321461+0.j        ,  0.64321461-0.j        ,\n",
      "        -0.49706854+0.j        ]]))\n",
      "(array([-6.82763943, 16.55747721,  5.99216222]), array([[ 0.51061881, -0.61491546, -0.6876092 ],\n",
      "       [-0.84008776, -0.62968762, -0.24387384],\n",
      "       [ 0.18308738, -0.47473413,  0.68389995]]))\n"
     ]
    }
   ],
   "source": [
    "#19 - eig\n",
    "\n",
    "print(np.linalg.eig(C))\n",
    "print(np.linalg.eig(I))\n",
    "print(np.linalg.eig(D))"
   ]
  },
  {
   "cell_type": "code",
   "execution_count": 33,
   "id": "889cff9e",
   "metadata": {},
   "outputs": [
    {
     "name": "stdout",
     "output_type": "stream",
     "text": [
      "[[ 0.31433675 -0.01155724 -0.12371779]\n",
      " [-0.09974018  0.26199691 -0.02710353]\n",
      " [-0.12527508 -0.07933842  0.20253539]]\n",
      "[[-3.88549381e-01 -1.79763441e-01  7.40338722e-01  4.48568075e-01\n",
      "  -1.38101253e-01]\n",
      " [ 7.69809511e-01 -3.50511950e-01 -3.80176052e-01  1.26743476e-01\n",
      "  -1.67762281e-01]\n",
      " [-6.32121120e-02  2.58440837e-01 -1.81493456e-01 -4.03780030e-01\n",
      "   1.87212860e-01]\n",
      " [ 2.27503940e-01 -2.95763067e-01  6.94572093e-04  3.29045629e-01\n",
      "  -5.32424436e-02]\n",
      " [-3.13223153e-01  6.19965484e-01 -3.48847525e-01 -5.69904911e-01\n",
      "   2.03261980e-01]]\n",
      "[[ 5.77601640e-03 -4.54884721e-02  1.90563607e-04  1.55219327e-01\n",
      "  -1.35017812e-02]\n",
      " [-6.55768476e-02 -9.54266544e-03 -8.38592954e-02 -1.12912972e-01\n",
      "   1.77643857e-01]\n",
      " [-4.81660799e-02  1.88914860e-01  2.02999131e-01 -4.36939666e-02\n",
      "  -1.39026850e-01]\n",
      " [ 1.93031558e-02  3.57323334e-01  5.56418315e-02 -1.84930758e-01\n",
      "  -1.95053471e-01]\n",
      " [ 1.32871977e-01 -3.46224772e-01 -3.89885088e-02  1.41378111e-01\n",
      "   1.46066299e-01]]\n"
     ]
    }
   ],
   "source": [
    "#20 - inv\n",
    "\n",
    "print(np.linalg.inv(C))\n",
    "print(np.linalg.inv(I))\n",
    "print(np.linalg.inv(J))"
   ]
  },
  {
   "cell_type": "code",
   "execution_count": null,
   "id": "47ac00f3",
   "metadata": {},
   "outputs": [],
   "source": []
  },
  {
   "cell_type": "code",
   "execution_count": null,
   "id": "0592d6fd",
   "metadata": {},
   "outputs": [],
   "source": []
  },
  {
   "cell_type": "code",
   "execution_count": null,
   "id": "4c98baf4",
   "metadata": {},
   "outputs": [],
   "source": []
  }
 ],
 "metadata": {
  "kernelspec": {
   "display_name": "Python 3 (ipykernel)",
   "language": "python",
   "name": "python3"
  },
  "language_info": {
   "codemirror_mode": {
    "name": "ipython",
    "version": 3
   },
   "file_extension": ".py",
   "mimetype": "text/x-python",
   "name": "python",
   "nbconvert_exporter": "python",
   "pygments_lexer": "ipython3",
   "version": "3.11.5"
  }
 },
 "nbformat": 4,
 "nbformat_minor": 5
}
